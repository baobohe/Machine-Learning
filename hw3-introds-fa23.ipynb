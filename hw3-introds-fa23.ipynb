{
 "cells": [
  {
   "cell_type": "markdown",
   "id": "ede484aa",
   "metadata": {},
   "source": [
    "# Homework 3 - Principal Component Regression\n",
    "One goal of this homework is to strengthen our understanding of principal components. We do this by showing how linear regression works differently when the data is transformed from the standard basis into the basis given by PCA.\n",
    "- make sure you have the music_scaled.csv file in your folder.\n",
    "\n",
    "We load the `music_scaled.csv` dataset ([source](https://archive.ics.uci.edu/ml/datasets/Geographical+Original+of+Music#)). \n",
    "- The dataset contains a sample of traditional songs from different cultures. \n",
    "- Features F1 to F68 are quantitative summaries of the songs from audio analysis software. \n",
    "- These features have been subject to standard scaling. They are stored as predictors in `X.` \n",
    "- The latitudes of the countries from which the songs originate are stored as a target variable `y.`"
   ]
  },
  {
   "cell_type": "code",
   "execution_count": 1,
   "id": "24fd54ba",
   "metadata": {
    "tags": []
   },
   "outputs": [
    {
     "data": {
      "text/plain": [
       "0      -35.30\n",
       "1      -35.30\n",
       "2      -35.30\n",
       "3      -35.30\n",
       "4      -35.30\n",
       "        ...  \n",
       "1054    54.68\n",
       "1055    54.68\n",
       "1056    54.68\n",
       "1057    54.68\n",
       "1058    54.68\n",
       "Name: Latitude, Length: 1059, dtype: float64"
      ]
     },
     "metadata": {},
     "output_type": "display_data"
    }
   ],
   "source": [
    "import pandas as pd\n",
    "\n",
    "data = pd.read_csv(\"music_scaled.csv\")\n",
    "y_series = data[\"Latitude\"]\n",
    "display(y_series)"
   ]
  },
  {
   "cell_type": "code",
   "execution_count": 2,
   "id": "e4258ca1",
   "metadata": {
    "tags": []
   },
   "outputs": [
    {
     "data": {
      "text/html": [
       "<div>\n",
       "<style scoped>\n",
       "    .dataframe tbody tr th:only-of-type {\n",
       "        vertical-align: middle;\n",
       "    }\n",
       "\n",
       "    .dataframe tbody tr th {\n",
       "        vertical-align: top;\n",
       "    }\n",
       "\n",
       "    .dataframe thead th {\n",
       "        text-align: right;\n",
       "    }\n",
       "</style>\n",
       "<table border=\"1\" class=\"dataframe\">\n",
       "  <thead>\n",
       "    <tr style=\"text-align: right;\">\n",
       "      <th></th>\n",
       "      <th>F1</th>\n",
       "      <th>F2</th>\n",
       "      <th>F3</th>\n",
       "      <th>F4</th>\n",
       "      <th>F5</th>\n",
       "      <th>F6</th>\n",
       "      <th>F7</th>\n",
       "      <th>F8</th>\n",
       "      <th>F9</th>\n",
       "      <th>F10</th>\n",
       "      <th>...</th>\n",
       "      <th>F59</th>\n",
       "      <th>F60</th>\n",
       "      <th>F61</th>\n",
       "      <th>F62</th>\n",
       "      <th>F63</th>\n",
       "      <th>F64</th>\n",
       "      <th>F65</th>\n",
       "      <th>F66</th>\n",
       "      <th>F67</th>\n",
       "      <th>F68</th>\n",
       "    </tr>\n",
       "  </thead>\n",
       "  <tbody>\n",
       "    <tr>\n",
       "      <th>0</th>\n",
       "      <td>-1.094000</td>\n",
       "      <td>-1.280592</td>\n",
       "      <td>2.806926</td>\n",
       "      <td>-0.097576</td>\n",
       "      <td>-0.791472</td>\n",
       "      <td>2.440896</td>\n",
       "      <td>0.003710</td>\n",
       "      <td>-0.864715</td>\n",
       "      <td>0.738257</td>\n",
       "      <td>-0.185613</td>\n",
       "      <td>...</td>\n",
       "      <td>0.465685</td>\n",
       "      <td>1.651588</td>\n",
       "      <td>0.169668</td>\n",
       "      <td>0.348005</td>\n",
       "      <td>-0.385988</td>\n",
       "      <td>-0.137105</td>\n",
       "      <td>-0.421766</td>\n",
       "      <td>-0.296043</td>\n",
       "      <td>-0.731677</td>\n",
       "      <td>-0.442480</td>\n",
       "    </tr>\n",
       "    <tr>\n",
       "      <th>1</th>\n",
       "      <td>-1.285544</td>\n",
       "      <td>-0.940198</td>\n",
       "      <td>-0.721321</td>\n",
       "      <td>-0.172044</td>\n",
       "      <td>-2.127893</td>\n",
       "      <td>2.549762</td>\n",
       "      <td>1.365750</td>\n",
       "      <td>0.489953</td>\n",
       "      <td>1.692462</td>\n",
       "      <td>0.387044</td>\n",
       "      <td>...</td>\n",
       "      <td>0.534732</td>\n",
       "      <td>-0.935377</td>\n",
       "      <td>-1.176909</td>\n",
       "      <td>-1.408592</td>\n",
       "      <td>-0.986426</td>\n",
       "      <td>-1.293346</td>\n",
       "      <td>-1.239692</td>\n",
       "      <td>-0.729675</td>\n",
       "      <td>-1.153275</td>\n",
       "      <td>-1.254825</td>\n",
       "    </tr>\n",
       "    <tr>\n",
       "      <th>2</th>\n",
       "      <td>0.503962</td>\n",
       "      <td>0.497136</td>\n",
       "      <td>-0.319168</td>\n",
       "      <td>0.330719</td>\n",
       "      <td>-0.398783</td>\n",
       "      <td>-0.749429</td>\n",
       "      <td>-2.380589</td>\n",
       "      <td>0.951098</td>\n",
       "      <td>-0.452177</td>\n",
       "      <td>-0.761333</td>\n",
       "      <td>...</td>\n",
       "      <td>0.274432</td>\n",
       "      <td>0.150854</td>\n",
       "      <td>0.161782</td>\n",
       "      <td>0.101072</td>\n",
       "      <td>-0.071694</td>\n",
       "      <td>-0.835381</td>\n",
       "      <td>-0.397305</td>\n",
       "      <td>-0.456676</td>\n",
       "      <td>-0.492329</td>\n",
       "      <td>-0.761836</td>\n",
       "    </tr>\n",
       "    <tr>\n",
       "      <th>3</th>\n",
       "      <td>-1.119978</td>\n",
       "      <td>0.696697</td>\n",
       "      <td>0.612882</td>\n",
       "      <td>-0.983295</td>\n",
       "      <td>1.333148</td>\n",
       "      <td>1.557607</td>\n",
       "      <td>-0.999593</td>\n",
       "      <td>-1.067051</td>\n",
       "      <td>0.811559</td>\n",
       "      <td>0.437626</td>\n",
       "      <td>...</td>\n",
       "      <td>0.696481</td>\n",
       "      <td>0.091214</td>\n",
       "      <td>-0.051819</td>\n",
       "      <td>0.219476</td>\n",
       "      <td>0.001850</td>\n",
       "      <td>-0.088704</td>\n",
       "      <td>-0.068108</td>\n",
       "      <td>-0.070306</td>\n",
       "      <td>0.277593</td>\n",
       "      <td>-0.071959</td>\n",
       "    </tr>\n",
       "    <tr>\n",
       "      <th>4</th>\n",
       "      <td>1.256214</td>\n",
       "      <td>1.066239</td>\n",
       "      <td>0.984965</td>\n",
       "      <td>-0.312513</td>\n",
       "      <td>-2.111077</td>\n",
       "      <td>0.009980</td>\n",
       "      <td>0.509741</td>\n",
       "      <td>0.837961</td>\n",
       "      <td>0.420966</td>\n",
       "      <td>0.366289</td>\n",
       "      <td>...</td>\n",
       "      <td>1.816629</td>\n",
       "      <td>0.593634</td>\n",
       "      <td>0.746647</td>\n",
       "      <td>0.035940</td>\n",
       "      <td>-0.292118</td>\n",
       "      <td>0.075086</td>\n",
       "      <td>-0.238434</td>\n",
       "      <td>-0.347040</td>\n",
       "      <td>-0.693764</td>\n",
       "      <td>0.053940</td>\n",
       "    </tr>\n",
       "    <tr>\n",
       "      <th>...</th>\n",
       "      <td>...</td>\n",
       "      <td>...</td>\n",
       "      <td>...</td>\n",
       "      <td>...</td>\n",
       "      <td>...</td>\n",
       "      <td>...</td>\n",
       "      <td>...</td>\n",
       "      <td>...</td>\n",
       "      <td>...</td>\n",
       "      <td>...</td>\n",
       "      <td>...</td>\n",
       "      <td>...</td>\n",
       "      <td>...</td>\n",
       "      <td>...</td>\n",
       "      <td>...</td>\n",
       "      <td>...</td>\n",
       "      <td>...</td>\n",
       "      <td>...</td>\n",
       "      <td>...</td>\n",
       "      <td>...</td>\n",
       "      <td>...</td>\n",
       "    </tr>\n",
       "    <tr>\n",
       "      <th>1054</th>\n",
       "      <td>0.089066</td>\n",
       "      <td>0.045324</td>\n",
       "      <td>-0.527161</td>\n",
       "      <td>0.274475</td>\n",
       "      <td>0.113220</td>\n",
       "      <td>-1.011250</td>\n",
       "      <td>-1.071873</td>\n",
       "      <td>-1.533993</td>\n",
       "      <td>-3.432258</td>\n",
       "      <td>-5.225601</td>\n",
       "      <td>...</td>\n",
       "      <td>0.269233</td>\n",
       "      <td>3.032646</td>\n",
       "      <td>3.000290</td>\n",
       "      <td>2.279520</td>\n",
       "      <td>3.409849</td>\n",
       "      <td>-0.028728</td>\n",
       "      <td>1.661721</td>\n",
       "      <td>3.501781</td>\n",
       "      <td>2.685491</td>\n",
       "      <td>1.111113</td>\n",
       "    </tr>\n",
       "    <tr>\n",
       "      <th>1055</th>\n",
       "      <td>0.558342</td>\n",
       "      <td>0.274368</td>\n",
       "      <td>-0.356357</td>\n",
       "      <td>-0.410656</td>\n",
       "      <td>0.710800</td>\n",
       "      <td>-0.240603</td>\n",
       "      <td>-0.370162</td>\n",
       "      <td>0.870655</td>\n",
       "      <td>-1.488764</td>\n",
       "      <td>0.566561</td>\n",
       "      <td>...</td>\n",
       "      <td>1.723216</td>\n",
       "      <td>3.048129</td>\n",
       "      <td>2.819643</td>\n",
       "      <td>1.571712</td>\n",
       "      <td>0.935972</td>\n",
       "      <td>0.406948</td>\n",
       "      <td>0.725402</td>\n",
       "      <td>-0.630365</td>\n",
       "      <td>1.991043</td>\n",
       "      <td>0.462783</td>\n",
       "    </tr>\n",
       "    <tr>\n",
       "      <th>1056</th>\n",
       "      <td>0.880180</td>\n",
       "      <td>0.668551</td>\n",
       "      <td>0.115084</td>\n",
       "      <td>-0.373637</td>\n",
       "      <td>0.848817</td>\n",
       "      <td>-0.859218</td>\n",
       "      <td>-0.823580</td>\n",
       "      <td>0.051974</td>\n",
       "      <td>-1.144327</td>\n",
       "      <td>1.314224</td>\n",
       "      <td>...</td>\n",
       "      <td>1.075571</td>\n",
       "      <td>3.199856</td>\n",
       "      <td>0.321025</td>\n",
       "      <td>0.897483</td>\n",
       "      <td>0.356881</td>\n",
       "      <td>1.262655</td>\n",
       "      <td>0.939693</td>\n",
       "      <td>-0.032762</td>\n",
       "      <td>0.801281</td>\n",
       "      <td>0.081143</td>\n",
       "    </tr>\n",
       "    <tr>\n",
       "      <th>1057</th>\n",
       "      <td>-0.990084</td>\n",
       "      <td>-1.094018</td>\n",
       "      <td>3.645894</td>\n",
       "      <td>-0.474362</td>\n",
       "      <td>-1.129270</td>\n",
       "      <td>0.188591</td>\n",
       "      <td>0.092048</td>\n",
       "      <td>0.252823</td>\n",
       "      <td>-0.377933</td>\n",
       "      <td>0.510161</td>\n",
       "      <td>...</td>\n",
       "      <td>4.246089</td>\n",
       "      <td>1.513936</td>\n",
       "      <td>1.893477</td>\n",
       "      <td>1.733179</td>\n",
       "      <td>0.707100</td>\n",
       "      <td>1.219381</td>\n",
       "      <td>-0.573497</td>\n",
       "      <td>-0.156859</td>\n",
       "      <td>-0.796013</td>\n",
       "      <td>-0.849146</td>\n",
       "    </tr>\n",
       "    <tr>\n",
       "      <th>1058</th>\n",
       "      <td>-0.133272</td>\n",
       "      <td>-0.074305</td>\n",
       "      <td>-0.554388</td>\n",
       "      <td>-0.582548</td>\n",
       "      <td>0.307454</td>\n",
       "      <td>-0.958630</td>\n",
       "      <td>-1.523819</td>\n",
       "      <td>-1.589983</td>\n",
       "      <td>-3.622496</td>\n",
       "      <td>-5.815839</td>\n",
       "      <td>...</td>\n",
       "      <td>0.487263</td>\n",
       "      <td>4.062586</td>\n",
       "      <td>5.037271</td>\n",
       "      <td>4.045322</td>\n",
       "      <td>3.617340</td>\n",
       "      <td>0.939408</td>\n",
       "      <td>1.039827</td>\n",
       "      <td>5.210938</td>\n",
       "      <td>2.457164</td>\n",
       "      <td>1.430688</td>\n",
       "    </tr>\n",
       "  </tbody>\n",
       "</table>\n",
       "<p>1059 rows × 68 columns</p>\n",
       "</div>"
      ],
      "text/plain": [
       "            F1        F2        F3        F4        F5        F6        F7  \\\n",
       "0    -1.094000 -1.280592  2.806926 -0.097576 -0.791472  2.440896  0.003710   \n",
       "1    -1.285544 -0.940198 -0.721321 -0.172044 -2.127893  2.549762  1.365750   \n",
       "2     0.503962  0.497136 -0.319168  0.330719 -0.398783 -0.749429 -2.380589   \n",
       "3    -1.119978  0.696697  0.612882 -0.983295  1.333148  1.557607 -0.999593   \n",
       "4     1.256214  1.066239  0.984965 -0.312513 -2.111077  0.009980  0.509741   \n",
       "...        ...       ...       ...       ...       ...       ...       ...   \n",
       "1054  0.089066  0.045324 -0.527161  0.274475  0.113220 -1.011250 -1.071873   \n",
       "1055  0.558342  0.274368 -0.356357 -0.410656  0.710800 -0.240603 -0.370162   \n",
       "1056  0.880180  0.668551  0.115084 -0.373637  0.848817 -0.859218 -0.823580   \n",
       "1057 -0.990084 -1.094018  3.645894 -0.474362 -1.129270  0.188591  0.092048   \n",
       "1058 -0.133272 -0.074305 -0.554388 -0.582548  0.307454 -0.958630 -1.523819   \n",
       "\n",
       "            F8        F9       F10  ...       F59       F60       F61  \\\n",
       "0    -0.864715  0.738257 -0.185613  ...  0.465685  1.651588  0.169668   \n",
       "1     0.489953  1.692462  0.387044  ...  0.534732 -0.935377 -1.176909   \n",
       "2     0.951098 -0.452177 -0.761333  ...  0.274432  0.150854  0.161782   \n",
       "3    -1.067051  0.811559  0.437626  ...  0.696481  0.091214 -0.051819   \n",
       "4     0.837961  0.420966  0.366289  ...  1.816629  0.593634  0.746647   \n",
       "...        ...       ...       ...  ...       ...       ...       ...   \n",
       "1054 -1.533993 -3.432258 -5.225601  ...  0.269233  3.032646  3.000290   \n",
       "1055  0.870655 -1.488764  0.566561  ...  1.723216  3.048129  2.819643   \n",
       "1056  0.051974 -1.144327  1.314224  ...  1.075571  3.199856  0.321025   \n",
       "1057  0.252823 -0.377933  0.510161  ...  4.246089  1.513936  1.893477   \n",
       "1058 -1.589983 -3.622496 -5.815839  ...  0.487263  4.062586  5.037271   \n",
       "\n",
       "           F62       F63       F64       F65       F66       F67       F68  \n",
       "0     0.348005 -0.385988 -0.137105 -0.421766 -0.296043 -0.731677 -0.442480  \n",
       "1    -1.408592 -0.986426 -1.293346 -1.239692 -0.729675 -1.153275 -1.254825  \n",
       "2     0.101072 -0.071694 -0.835381 -0.397305 -0.456676 -0.492329 -0.761836  \n",
       "3     0.219476  0.001850 -0.088704 -0.068108 -0.070306  0.277593 -0.071959  \n",
       "4     0.035940 -0.292118  0.075086 -0.238434 -0.347040 -0.693764  0.053940  \n",
       "...        ...       ...       ...       ...       ...       ...       ...  \n",
       "1054  2.279520  3.409849 -0.028728  1.661721  3.501781  2.685491  1.111113  \n",
       "1055  1.571712  0.935972  0.406948  0.725402 -0.630365  1.991043  0.462783  \n",
       "1056  0.897483  0.356881  1.262655  0.939693 -0.032762  0.801281  0.081143  \n",
       "1057  1.733179  0.707100  1.219381 -0.573497 -0.156859 -0.796013 -0.849146  \n",
       "1058  4.045322  3.617340  0.939408  1.039827  5.210938  2.457164  1.430688  \n",
       "\n",
       "[1059 rows x 68 columns]"
      ]
     },
     "metadata": {},
     "output_type": "display_data"
    }
   ],
   "source": [
    "X_dframe = data.iloc[:,:68]\n",
    "display(X_dframe)"
   ]
  },
  {
   "cell_type": "markdown",
   "id": "68484080",
   "metadata": {},
   "source": [
    "# 1 Plain Linear Regression"
   ]
  },
  {
   "cell_type": "markdown",
   "id": "a2502e44",
   "metadata": {},
   "source": [
    "(a) [2 pt] Perform linear regression of **y** on **X** using `sklearn.linear_model.LinearRegression` when the regressors consist of:\n",
    "- F1 only; \n",
    "- F1 and F2 only; \n",
    "- F1, F2, and F3 only; \n",
    "\n",
    "$\\qquad \\qquad \\vdots$\n",
    "\n",
    "- F1, F2, F3, ..., and F66 only. \n",
    "- F1, F2, F3, ....., and F67 only. \n",
    "- F1, F2, F3, ........, and F68. \n",
    "\n",
    "Store the coefficients corresponding to **F1** as a vector of 68 elements $\\texttt{F1\\_coeff}$."
   ]
  },
  {
   "cell_type": "code",
   "execution_count": 3,
   "id": "8d9a6879",
   "metadata": {
    "tags": []
   },
   "outputs": [
    {
     "name": "stdout",
     "output_type": "stream",
     "text": [
      "[0.65973395 1.66992304 2.22215759 2.32442704 2.26829798 2.84523519\n",
      " 3.33208702 3.35667894 3.26985677 3.30323164 3.29207706 3.32089036\n",
      " 3.34753513 3.32681621 3.28589764 2.97362302 2.93320924 5.01951537\n",
      " 6.36401571 4.99835492 6.36477817 4.13369465 4.73000709 4.98148878\n",
      " 4.9301282  5.09309431 5.19847973 5.16332859 5.15766681 5.31294127\n",
      " 5.27558489 5.2821778  5.30331315 4.93889988 4.75844919 3.92074136\n",
      " 3.9790839  3.65511832 2.54600835 2.426859   2.21710891 2.31024922\n",
      " 2.52889366 2.57728085 2.57968802 2.77791065 2.7783513  2.75093888\n",
      " 2.62426328 2.6138197  2.80234033 2.73071506 5.26376217 6.42438\n",
      " 8.82181176 9.16281181 8.98305474 8.98406978 8.61981963 8.96160707\n",
      " 8.99198293 8.92392552 8.86472445 8.6973966  8.6365797  8.8964445\n",
      " 8.45382033 8.30367097]\n"
     ]
    }
   ],
   "source": [
    "# TODO Perform linear regression\n",
    "X, y = X_dframe.to_numpy(), y_series.to_numpy() # change to numpy for ease\n",
    "import numpy as np\n",
    "from sklearn.linear_model import LinearRegression\n",
    "F1_coeff = np.zeros(68)\n",
    "for i in range(1, 69):\n",
    "    reg = LinearRegression().fit(X[:, :i], y)\n",
    "    F1_coeff[i - 1] = reg.coef_[0]\n",
    "print(F1_coeff)\n"
   ]
  },
  {
   "cell_type": "markdown",
   "id": "374df9c0",
   "metadata": {},
   "source": [
    "(b) [1 pt] For the four cases:\n",
    "- F1 only; \n",
    "- F1 and F2 only; \n",
    "- F1, F2, F3, ....., and F67 only. \n",
    "- F1, F2, F3, ........, and F68. \n",
    "\n",
    "print the estimated coefficient for **F1**."
   ]
  },
  {
   "cell_type": "code",
   "execution_count": 4,
   "id": "efa534e0",
   "metadata": {
    "tags": []
   },
   "outputs": [
    {
     "name": "stdout",
     "output_type": "stream",
     "text": [
      "F1 only 0.659733950012265\n",
      "F1 and F2 only 1.669923041178091\n",
      "F1 to F67 8.453820331646487\n",
      "F1 to F68 8.303670971591442\n"
     ]
    }
   ],
   "source": [
    "# TODO print coefficients for F1\n",
    "print('F1 only', F1_coeff[0])\n",
    "print('F1 and F2 only', F1_coeff[1]) \n",
    "print('F1 to F67', F1_coeff[-2]) \n",
    "print('F1 to F68', F1_coeff[-1])"
   ]
  },
  {
   "cell_type": "markdown",
   "id": "befa54ff",
   "metadata": {},
   "source": [
    " F1 Coeff(c) [1pt] Plot \"Estimated F1 Coeff\" (y-axis) against \"Number of regressors\" (x-axis). Show axis labels."
   ]
  },
  {
   "cell_type": "code",
   "execution_count": 5,
   "id": "456054e1",
   "metadata": {
    "tags": []
   },
   "outputs": [
    {
     "data": {
      "image/png": "[encoded data removed]",
      "text/plain": [
       "<Figure size 640x480 with 1 Axes>"
      ]
     },
     "metadata": {},
     "output_type": "display_data"
    }
   ],
   "source": [
    "# TODO Plot\n",
    "import matplotlib.pyplot as plt\n",
    "plt.scatter(np.linspace(1, 68, 68), F1_coeff, marker = '*', color = 'blue')\n",
    "plt.xlabel('Number of regressors')\n",
    "plt.ylabel('Estimated F1 Coefficients')\n",
    "plt.title(\"Estimated F1 Coefficient against Number of Regressors\")\n",
    "plt.show()"
   ]
  },
  {
   "cell_type": "markdown",
   "id": "6241910c",
   "metadata": {},
   "source": [
    "# 2 Principal Component Linear Regression"
   ]
  },
  {
   "cell_type": "markdown",
   "id": "9524d597",
   "metadata": {},
   "source": [
    "Perform a manual implementation to compute a full set of principal components of **X** using the following steps:\n",
    "\n",
    "(a i) [1 pt] Standardize X, store this as $\\texttt{X\\_std}$.\n",
    "\n",
    "(a ii) [1 pt] Compute the sample covariance matrix.\n",
    "\n",
    "(a iii) [1 pt] Perform the eigen decomposition of the covariance matrix.\n",
    "\n",
    "(a iv) [1 pt] Project the data onto the principal components (eigenvectors of the covariance matrix)."
   ]
  },
  {
   "cell_type": "code",
   "execution_count": 62,
   "id": "9d21b8fc",
   "metadata": {
    "tags": []
   },
   "outputs": [
    {
     "name": "stdout",
     "output_type": "stream",
     "text": [
      "(1059, 68)\n",
      "(68, 68)\n",
      "[[ 1.11830408e+00 -2.48826457e+00  9.11951135e-03 ... -2.88290224e-01\n",
      "  -2.03288923e-01  5.12720085e-02]\n",
      " [ 5.22786228e+00  6.47908617e-01  2.53031207e+00 ... -1.72276247e-02\n",
      "  -3.57465361e-02  2.72146455e-03]\n",
      " [ 4.40413284e-01 -1.28339946e+00 -2.81909246e+00 ...  3.55322957e-01\n",
      "  -2.73778479e-02 -2.64886606e-02]\n",
      " ...\n",
      " [-3.68232295e+00  6.02985670e-01 -8.97661024e-01 ... -6.15197641e-03\n",
      "   6.46635498e-04 -5.27042823e-03]\n",
      " [-1.14937162e+00 -4.36829831e-01  1.98790078e+00 ... -2.35937223e-01\n",
      "   2.36099181e-01 -3.15379354e-02]\n",
      " [-1.70744598e+01  3.12186234e+00 -3.30924094e+00 ... -2.77224435e-01\n",
      "   7.37402485e-02 -8.81823275e-02]]\n"
     ]
    }
   ],
   "source": [
    "# TODO standardize data\n",
    "X_std = (X - X.mean(axis=0))\n",
    "\n",
    "# TODO Compute covariance matrix\n",
    "cov = X_std.T @ X_std / (X_std.shape[0] - 1)\n",
    "\n",
    "# TODO Eigen decomposition (SVD)\n",
    "U, D, W = np.linalg.svd(cov)\n",
    "print(X_std.shape)\n",
    "print(U.shape)\n",
    "# TODO Project data into principal components\n",
    "projection1 = X_std @ U\n",
    "print(projection1)"
   ]
  },
  {
   "cell_type": "markdown",
   "id": "67973d0b",
   "metadata": {},
   "source": [
    "(b) [1 pt] Perform linear regression of **y** on the projected data obtained in (a) using `sklearn.linear_model.LinearRegression` when the regressors consist of \n",
    "- PC1 only; \n",
    "- PC1 and PC2 only; \n",
    "- PC1, PC2, and PC3 only;\n",
    "\n",
    "$\\qquad \\qquad \\vdots$\n",
    "\n",
    "- PC1, PC2, PC3,  ..., and PC66 only. \n",
    "- PC1, PC2, PC3,  ....., and PC67 only. \n",
    "- PC1, PC2, PC3,  ........, and PC68. \n",
    "\n",
    "(should basically be copy-paste from Q1)"
   ]
  },
  {
   "cell_type": "code",
   "execution_count": 7,
   "id": "aa1db45a",
   "metadata": {
    "tags": []
   },
   "outputs": [
    {
     "name": "stdout",
     "output_type": "stream",
     "text": [
      "[0.08259023 0.08259023 0.08259023 0.08259023 0.08259023 0.08259023\n",
      " 0.08259023 0.08259023 0.08259023 0.08259023 0.08259023 0.08259023\n",
      " 0.08259023 0.08259023 0.08259023 0.08259023 0.08259023 0.08259023\n",
      " 0.08259023 0.08259023 0.08259023 0.08259023 0.08259023 0.08259023\n",
      " 0.08259023 0.08259023 0.08259023 0.08259023 0.08259023 0.08259023\n",
      " 0.08259023 0.08259023 0.08259023 0.08259023 0.08259023 0.08259023\n",
      " 0.08259023 0.08259023 0.08259023 0.08259023 0.08259023 0.08259023\n",
      " 0.08259023 0.08259023 0.08259023 0.08259023 0.08259023 0.08259023\n",
      " 0.08259023 0.08259023 0.08259023 0.08259023 0.08259023 0.08259023\n",
      " 0.08259023 0.08259023 0.08259023 0.08259023 0.08259023 0.08259023\n",
      " 0.08259023 0.08259023 0.08259023 0.08259023 0.08259023 0.08259023\n",
      " 0.08259023 0.08259023]\n"
     ]
    }
   ],
   "source": [
    "# TODO Perform linear regression\n",
    "PC1_coeff = np.zeros(68)\n",
    "for i in range(1, 69):\n",
    "    reg = LinearRegression().fit(projection[:, :i], y)\n",
    "    PC1_coeff[i - 1] = reg.coef_[0]\n",
    "print(PC1_coeff)\n",
    "    "
   ]
  },
  {
   "cell_type": "markdown",
   "id": "ba5d9b3c",
   "metadata": {},
   "source": [
    "(c) [1 pt] For the four cases:\n",
    "- PC1 only; \n",
    "- PC1 and PC2 only; \n",
    "- PC1, PC2, PC3,  ....., and PC67 only. \n",
    "- PC1, PC2, PC3,  ........, and PC68. \n",
    "\n",
    "print the estimated coefficient for **PC1**. (should basically be copy paste from Q1)"
   ]
  },
  {
   "cell_type": "code",
   "execution_count": 8,
   "id": "4fecaa3e",
   "metadata": {
    "tags": []
   },
   "outputs": [
    {
     "name": "stdout",
     "output_type": "stream",
     "text": [
      "0.08259022735453125\n",
      "0.08259022735453127\n",
      "0.08259022735452941\n",
      "0.08259022735452967\n"
     ]
    }
   ],
   "source": [
    "# TODO print coefficients for PC1\n",
    "print(PC1_coeff[0])\n",
    "print(PC1_coeff[1])\n",
    "print(PC1_coeff[-2])\n",
    "print(PC1_coeff[-1])"
   ]
  },
  {
   "cell_type": "markdown",
   "id": "d1da6abd",
   "metadata": {},
   "source": [
    "(d) [1pt] Plot \"Estimated PC1 Coeff\" (y-axis) against \"Number of regressors\" (x-axis). Show axis labels. Set y limits to [0,0.2]."
   ]
  },
  {
   "cell_type": "code",
   "execution_count": 9,
   "id": "742c9ba2",
   "metadata": {
    "tags": []
   },
   "outputs": [
    {
     "data": {
      "image/png": "[encoded data removed]",
      "text/plain": [
       "<Figure size 640x480 with 1 Axes>"
      ]
     },
     "metadata": {},
     "output_type": "display_data"
    }
   ],
   "source": [
    "# TODO Plot\n",
    "plt.scatter(np.linspace(1, 68, 68), PC1_coeff, marker = '*', color = 'red')\n",
    "plt.ylim(0, 0.2)\n",
    "plt.xlabel('Number of regressors')\n",
    "plt.ylabel('Estimated PC1 Coefficients')\n",
    "plt.title(\"Estimated PC1 Coefficient against Number of Regressors\")\n",
    "plt.show()"
   ]
  },
  {
   "cell_type": "markdown",
   "id": "0c19650f",
   "metadata": {},
   "source": [
    "# 3 Correlation Matrix and Discussion on Coefficients"
   ]
  },
  {
   "cell_type": "markdown",
   "id": "f9548cda",
   "metadata": {},
   "source": [
    "(a) [1 pt] Compute matrix $\\texttt{cor\\_mat}$, where entry $\\texttt{cor\\_mat[i,j]}$ represents the correlation between principal component i and principal component j. You may use the function np.corrcoef(). \n",
    "\n",
    "_(Done for you) Print $\\texttt{np.round(cor\\_mat,3)}$, the (rounded) correlation matrix of all the principal components (PCs). We know this matrix is 68 by 68, but the graders don't have to see the full matrix, just show us the default way that python displays. We have written this code for you._"
   ]
  },
  {
   "cell_type": "code",
   "execution_count": 12,
   "id": "f4f2287e",
   "metadata": {
    "tags": []
   },
   "outputs": [
    {
     "name": "stdout",
     "output_type": "stream",
     "text": [
      "[[ 1.001 -0.    -0.    ...  0.     0.    -0.   ]\n",
      " [-0.     1.001 -0.    ... -0.     0.     0.   ]\n",
      " [-0.    -0.     1.001 ...  0.    -0.    -0.   ]\n",
      " ...\n",
      " [ 0.    -0.     0.    ...  1.001 -0.    -0.   ]\n",
      " [ 0.     0.    -0.    ... -0.     1.001  0.   ]\n",
      " [-0.     0.    -0.    ... -0.     0.     1.001]]\n",
      "[[ 1.          0.088788    0.20664318 ...  0.08187191  0.36032814\n",
      "  -0.05898642]\n",
      " [ 0.088788    1.         -0.15849954 ... -0.42005266 -0.06488461\n",
      "  -0.48079037]\n",
      " [ 0.20664318 -0.15849954  1.         ...  0.09828995 -0.0808171\n",
      "   0.03763248]\n",
      " ...\n",
      " [ 0.08187191 -0.42005266  0.09828995 ...  1.          0.26635945\n",
      "   0.32595699]\n",
      " [ 0.36032814 -0.06488461 -0.0808171  ...  0.26635945  1.\n",
      "   0.14103572]\n",
      " [-0.05898642 -0.48079037  0.03763248 ...  0.32595699  0.14103572\n",
      "   1.        ]]\n"
     ]
    }
   ],
   "source": [
    "# TODO compute correlation matrix\n",
    "covpc = projection.T @ projection / (projection.shape[0] - 1)\n",
    "cor_mat = covpc / np.outer(projection.std(axis=0), projection.std(axis=0))\n",
    "# np.round(cor_mat, 3) # done for you\n",
    "\n",
    "print(np.round(cor_mat, 3))\n",
    "corr_mat = np.corrcoef(projection)\n",
    "print(corr_mat)\n",
    "print(np.round(cor_mat, 3))"
   ]
  },
  {
   "cell_type": "markdown",
   "id": "4a16d586",
   "metadata": {},
   "source": [
    "**(b) [1 pt] Which matrix does it closely resemble to?**\n",
    "\n",
    "Answer: It resembles to a identity matrix of dimension number of features * number of features (ie 68 * 68). "
   ]
  },
  {
   "cell_type": "markdown",
   "id": "5abfed31",
   "metadata": {},
   "source": [
    "**(c) [1 pt] Which feature of the principal components is depicted through this matrix?**\n",
    "\n",
    "Answer: Principal components are eigenvectors of the covariance matrix, so they are orthogonal to each other. Hence, the correlation between any two principal components is 0 and is 1 with respect to itself, as is reflected in the matrix. "
   ]
  },
  {
   "cell_type": "markdown",
   "id": "6ac22727",
   "metadata": {},
   "source": [
    "**(d) [1 pt] What do you observe in the \"estimated coefficients of F1\" when the number of regressors are increased, compared to the \"estimated coefficients of PC1\" when the number of regressors are increased?**\n",
    "\n",
    "Answer: F1 is fluctuating with a tendency of inreasing as the number of regressors increase, but PC1 is constant for all number of regressors. "
   ]
  },
  {
   "cell_type": "markdown",
   "id": "c7dc82b5",
   "metadata": {},
   "source": [
    "**(e) [1 pt] Explain the reason behind the observation you made in part (d) for \"estimated coefficients of PC1\". (You do not have to provide a rigorous explanation, just make a simple connection between part (c) and part (d). )**\n",
    "\n",
    "Answer: Since all PCs are orthogonal and uncorrelated with each other (from part c), more number of regressors induced PCs do not affect the predicting ability of PC1, which is indicated by its constant coefficient (from part d); while Fs are on the contrary since they are correlated. So later Fn can be rewritten in the form of previous Fs, changing and updating the obtained coefficients for different trials. PCs do not have this issue since uncorrelatedness guarantees there is no way to rewrite the expression, keeping coefficients invariable. "
   ]
  }
 ],
 "metadata": {
  "kernelspec": {
   "display_name": "Python 3 (ipykernel)",
   "language": "python",
   "name": "python3"
  },
  "language_info": {
   "codemirror_mode": {
    "name": "ipython",
    "version": 3
   },
   "file_extension": ".py",
   "mimetype": "text/x-python",
   "name": "python",
   "nbconvert_exporter": "python",
   "pygments_lexer": "ipython3",
   "version": "3.11.4"
  }
 },
 "nbformat": 4,
 "nbformat_minor": 5
}
