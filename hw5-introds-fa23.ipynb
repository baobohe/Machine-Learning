{
 "cells": [
  {
   "cell_type": "markdown",
   "id": "a1aa7201",
   "metadata": {},
   "source": [
    "# Homework 5 - Naive Bayes\n",
    "\n",
    "Make sure you have downloaded \"heart\\_processed.csv\" and included it in your folder/directory.\n",
    "\n",
    "This homework will ask you to implement naive bayes using a custom likelihood and then comparing it against sklearn's Gaussian naive Bayes. \n",
    "\n",
    "The execution is slightly different from lecture and section. It is more streamlined to take adavantage of vector multiplications and numpy functions, which has its own benefits if we want to scale up our naive bayes prediction to higher dimensions. So, make sure you understand what naive Bayes is doing in lecture and section notebooks."
   ]
  },
  {
   "cell_type": "markdown",
   "id": "bc6d2714",
   "metadata": {},
   "source": [
    "## 0 Data\n",
    "We load `heart_processed.csv` which has log-predictors from the [Heart Failure Clinical Records Dataset](https://archive.ics.uci.edu/ml/datasets/Heart%2Bfailure%2Bclinical%2Brecords) for predicting `DEATH_EVENT`."
   ]
  },
  {
   "cell_type": "code",
   "execution_count": 1,
   "id": "9f648bc7",
   "metadata": {
    "tags": []
   },
   "outputs": [
    {
     "name": "stdout",
     "output_type": "stream",
     "text": [
      "train shapes:\n",
      "\t X_train -> (239, 6)\n",
      "\t y_train -> (239,)\n",
      "test shapes:\n",
      "\t X_test -> (60, 6)\n",
      "\t y_test -> (60,)\n"
     ]
    },
    {
     "data": {
      "text/html": [
       "<div>\n",
       "<style scoped>\n",
       "    .dataframe tbody tr th:only-of-type {\n",
       "        vertical-align: middle;\n",
       "    }\n",
       "\n",
       "    .dataframe tbody tr th {\n",
       "        vertical-align: top;\n",
       "    }\n",
       "\n",
       "    .dataframe thead th {\n",
       "        text-align: right;\n",
       "    }\n",
       "</style>\n",
       "<table border=\"1\" class=\"dataframe\">\n",
       "  <thead>\n",
       "    <tr style=\"text-align: right;\">\n",
       "      <th></th>\n",
       "      <th>age</th>\n",
       "      <th>creatinine_phosphokinase</th>\n",
       "      <th>ejection_fraction</th>\n",
       "      <th>platelets</th>\n",
       "      <th>serum_creatinine</th>\n",
       "      <th>serum_sodium</th>\n",
       "      <th>DEATH_EVENT</th>\n",
       "    </tr>\n",
       "  </thead>\n",
       "  <tbody>\n",
       "    <tr>\n",
       "      <th>0</th>\n",
       "      <td>4.317488</td>\n",
       "      <td>6.366470</td>\n",
       "      <td>2.995732</td>\n",
       "      <td>12.487485</td>\n",
       "      <td>0.641854</td>\n",
       "      <td>4.867534</td>\n",
       "      <td>1</td>\n",
       "    </tr>\n",
       "    <tr>\n",
       "      <th>1</th>\n",
       "      <td>4.007333</td>\n",
       "      <td>8.969669</td>\n",
       "      <td>3.637586</td>\n",
       "      <td>12.481270</td>\n",
       "      <td>0.095310</td>\n",
       "      <td>4.912655</td>\n",
       "      <td>1</td>\n",
       "    </tr>\n",
       "    <tr>\n",
       "      <th>2</th>\n",
       "      <td>4.174387</td>\n",
       "      <td>4.983607</td>\n",
       "      <td>2.995732</td>\n",
       "      <td>11.995352</td>\n",
       "      <td>0.262364</td>\n",
       "      <td>4.859812</td>\n",
       "      <td>1</td>\n",
       "    </tr>\n",
       "    <tr>\n",
       "      <th>3</th>\n",
       "      <td>3.912023</td>\n",
       "      <td>4.709530</td>\n",
       "      <td>2.995732</td>\n",
       "      <td>12.254863</td>\n",
       "      <td>0.641854</td>\n",
       "      <td>4.919981</td>\n",
       "      <td>1</td>\n",
       "    </tr>\n",
       "    <tr>\n",
       "      <th>4</th>\n",
       "      <td>4.174387</td>\n",
       "      <td>5.075174</td>\n",
       "      <td>2.995732</td>\n",
       "      <td>12.697715</td>\n",
       "      <td>0.993252</td>\n",
       "      <td>4.753590</td>\n",
       "      <td>1</td>\n",
       "    </tr>\n",
       "    <tr>\n",
       "      <th>...</th>\n",
       "      <td>...</td>\n",
       "      <td>...</td>\n",
       "      <td>...</td>\n",
       "      <td>...</td>\n",
       "      <td>...</td>\n",
       "      <td>...</td>\n",
       "      <td>...</td>\n",
       "    </tr>\n",
       "    <tr>\n",
       "      <th>294</th>\n",
       "      <td>4.127134</td>\n",
       "      <td>4.110874</td>\n",
       "      <td>3.637586</td>\n",
       "      <td>11.951180</td>\n",
       "      <td>0.095310</td>\n",
       "      <td>4.962845</td>\n",
       "      <td>0</td>\n",
       "    </tr>\n",
       "    <tr>\n",
       "      <th>295</th>\n",
       "      <td>4.007333</td>\n",
       "      <td>7.506592</td>\n",
       "      <td>3.637586</td>\n",
       "      <td>12.506177</td>\n",
       "      <td>0.182322</td>\n",
       "      <td>4.934474</td>\n",
       "      <td>0</td>\n",
       "    </tr>\n",
       "    <tr>\n",
       "      <th>296</th>\n",
       "      <td>3.806662</td>\n",
       "      <td>7.630461</td>\n",
       "      <td>4.094345</td>\n",
       "      <td>13.517105</td>\n",
       "      <td>-0.223144</td>\n",
       "      <td>4.927254</td>\n",
       "      <td>0</td>\n",
       "    </tr>\n",
       "    <tr>\n",
       "      <th>297</th>\n",
       "      <td>3.806662</td>\n",
       "      <td>7.788626</td>\n",
       "      <td>3.637586</td>\n",
       "      <td>11.849398</td>\n",
       "      <td>0.336472</td>\n",
       "      <td>4.941642</td>\n",
       "      <td>0</td>\n",
       "    </tr>\n",
       "    <tr>\n",
       "      <th>298</th>\n",
       "      <td>3.912023</td>\n",
       "      <td>5.278115</td>\n",
       "      <td>3.806662</td>\n",
       "      <td>12.886641</td>\n",
       "      <td>0.470004</td>\n",
       "      <td>4.912655</td>\n",
       "      <td>0</td>\n",
       "    </tr>\n",
       "  </tbody>\n",
       "</table>\n",
       "<p>299 rows × 7 columns</p>\n",
       "</div>"
      ],
      "text/plain": [
       "          age  creatinine_phosphokinase  ejection_fraction  platelets  \\\n",
       "0    4.317488                  6.366470           2.995732  12.487485   \n",
       "1    4.007333                  8.969669           3.637586  12.481270   \n",
       "2    4.174387                  4.983607           2.995732  11.995352   \n",
       "3    3.912023                  4.709530           2.995732  12.254863   \n",
       "4    4.174387                  5.075174           2.995732  12.697715   \n",
       "..        ...                       ...                ...        ...   \n",
       "294  4.127134                  4.110874           3.637586  11.951180   \n",
       "295  4.007333                  7.506592           3.637586  12.506177   \n",
       "296  3.806662                  7.630461           4.094345  13.517105   \n",
       "297  3.806662                  7.788626           3.637586  11.849398   \n",
       "298  3.912023                  5.278115           3.806662  12.886641   \n",
       "\n",
       "     serum_creatinine  serum_sodium  DEATH_EVENT  \n",
       "0            0.641854      4.867534            1  \n",
       "1            0.095310      4.912655            1  \n",
       "2            0.262364      4.859812            1  \n",
       "3            0.641854      4.919981            1  \n",
       "4            0.993252      4.753590            1  \n",
       "..                ...           ...          ...  \n",
       "294          0.095310      4.962845            0  \n",
       "295          0.182322      4.934474            0  \n",
       "296         -0.223144      4.927254            0  \n",
       "297          0.336472      4.941642            0  \n",
       "298          0.470004      4.912655            0  \n",
       "\n",
       "[299 rows x 7 columns]"
      ]
     },
     "metadata": {},
     "output_type": "display_data"
    }
   ],
   "source": [
    "# ======= DO NOT CHANGE CODE =======\n",
    "import pandas as pd\n",
    "import numpy as np\n",
    "import matplotlib.pyplot as plt\n",
    "\n",
    "dataset = pd.read_csv(\"heart_processed.csv\", index_col=0)\n",
    "X = dataset.drop(\"DEATH_EVENT\", axis=1).values\n",
    "# X = np.log(X)\n",
    "y = dataset[\"DEATH_EVENT\"].values\n",
    "\n",
    "# split the data into training and testing sets\n",
    "from sklearn.model_selection import train_test_split\n",
    "X_train, X_test, y_train, y_test = train_test_split(X, y, test_size=0.2, random_state=42)\n",
    "\n",
    "# print the shapes of the training and testing sets\n",
    "print('train shapes:')\n",
    "print('\\t X_train ->', X_train.shape)\n",
    "print('\\t y_train ->', y_train.shape)\n",
    "\n",
    "print('test shapes:')\n",
    "print('\\t X_test ->', X_test.shape)\n",
    "print('\\t y_test ->', y_test.shape)\n",
    "\n",
    "display(dataset)\n",
    "# =================================="
   ]
  },
  {
   "cell_type": "markdown",
   "id": "ca4be0c2",
   "metadata": {},
   "source": [
    "## 1 Custom Naive Bayes Classifier with KDE\n",
    "You will write a naive Bayes classifier, using KDE to approximate the likelihood. \n",
    "\n",
    "**Use only the training data ```X_train, y_train``` to fit the classification model.**"
   ]
  },
  {
   "cell_type": "markdown",
   "id": "b980cca8",
   "metadata": {},
   "source": [
    "Recall: Bayesian analysis involves a prior, likelihood, and posterior. Your task is to complete the following code and functions in order to execute naive Bayes classification.\n",
    "\n",
    "### 1.1 Prior\n",
    "1. [2 pt] Compute ```prior```, a two element array. \n",
    "    - prior[0] is the probability of death event 0, \n",
    "    - prior[1] is the probability of death event 1. \n",
    "    - Infer the prior probabilities from the training data. You do not need to complete the (Tip: Use np.unique() with return_counts)\n",
    "2. [1 pt] Print ```prior```."
   ]
  },
  {
   "cell_type": "code",
   "execution_count": 2,
   "id": "227c44b0",
   "metadata": {
    "tags": []
   },
   "outputs": [
    {
     "name": "stdout",
     "output_type": "stream",
     "text": [
      "The prior probabilities are: [0.70292887 0.29707113]\n"
     ]
    }
   ],
   "source": [
    "classes = np.unique(y_train)\n",
    "prior = np.array([0.0, 0.0])\n",
    "for k in classes:\n",
    "    members = (y_train == k)\n",
    "    num = members.sum()\n",
    "    prior[k] = num / y_train.size\n",
    "print('The prior probabilities are:', prior)"
   ]
  },
  {
   "cell_type": "markdown",
   "id": "ceeefe43",
   "metadata": {},
   "source": [
    "### 1.2 Likelihood (KDE)\n",
    "1. [2 pt] Using `scipy.stats.gaussian_kde` with default bandwidth, define objects ```kde0``` and ```kde1```, which correspond to likelihoods when the death event is 0 and 1 respectively. \n",
    "    - Remember to use only training data.\n",
    "    - When using ```gaussian_kde``` to define ```kde0``` and ```kde1```, make sure you index the correct rows of ```X_train```. \n"
   ]
  },
  {
   "cell_type": "code",
   "execution_count": 3,
   "id": "c2818202",
   "metadata": {
    "tags": []
   },
   "outputs": [],
   "source": [
    "from scipy.stats import gaussian_kde\n",
    "kde0 = gaussian_kde(X_train[y_train == 0].T)\n",
    "kde1 = gaussian_kde(X_train[y_train == 1].T)"
   ]
  },
  {
   "cell_type": "markdown",
   "id": "2650786a",
   "metadata": {},
   "source": [
    "2. [2 pt] Complete the code for ```compute_likelihood``` function.\n",
    "    - The objects kde0 and kde1 has a method kde.pdf() that you will use when computing the likelihood.\n",
    "    - Make sure that you read the documentation for kde.pdf() for what inputs should go in."
   ]
  },
  {
   "cell_type": "code",
   "execution_count": 4,
   "id": "b6afc97b",
   "metadata": {
    "tags": []
   },
   "outputs": [],
   "source": [
    "def compute_likelihood(x, kde0, kde1):\n",
    "    # input:    x, a (# data) by (# features) array\n",
    "    #           kde0 and kde1, kde objects that will be used to compute the likelihood\n",
    "    # output:   likelihood, a (# data) by 2 array\n",
    "    likelihood0 = [kde0.pdf(sample)[0] for sample in x]\n",
    "    likelihood1 = [kde1.pdf(sample)[0] for sample in x]\n",
    "    likelihood = np.vstack((likelihood0, likelihood1)).T\n",
    "    return likelihood"
   ]
  },
  {
   "cell_type": "markdown",
   "id": "5ecf5b7a",
   "metadata": {},
   "source": [
    "### 1.3 Posterior\n",
    "1. [2 pt] Complete the code for ```compute_posterior``` function. \n",
    "    - It should include calling the function ```compute_likelihood```."
   ]
  },
  {
   "cell_type": "code",
   "execution_count": 5,
   "id": "1a9546c7",
   "metadata": {
    "tags": []
   },
   "outputs": [],
   "source": [
    "def compute_posterior(x, prior, kde0, kde1):\n",
    "    # input:    x, a (# data) by (# features) array\n",
    "    #           prior, a 1 by 2 array\n",
    "    #           kde0 and kde1, kde objects that will be used to compute the likelihood\n",
    "    # output:   posterior, a (# data) by 2 array\n",
    "    likelihood = compute_likelihood(x, kde0, kde1)\n",
    "    posterior = likelihood * prior\n",
    "    return posterior"
   ]
  },
  {
   "cell_type": "markdown",
   "id": "6a4126c3",
   "metadata": {},
   "source": [
    "### 1.4 Combine prior, likelihood, posterior\n",
    "Now, we are ready to piece all the code we prepared above about the prior, likelihood, and posterior.\n",
    "1. [2 pt] Complete the code for ```naive_bayes_predict```.\n",
    "    - Your code should include calling the ```compute_posterior``` function.\n",
    "    - Computing y_pred should be a simple one line of code. You may consider using numpy functions that find the index of the largest entry on every row.\n",
    "2. [2 pt] Complete the code for ```print_success_rates```."
   ]
  },
  {
   "cell_type": "code",
   "execution_count": 6,
   "id": "362e2119",
   "metadata": {
    "tags": []
   },
   "outputs": [],
   "source": [
    "def naive_bayes_predict(x, prior, kde0, kde1):\n",
    "    # input:    x, a (# data) by (# features) array\n",
    "    #           prior, a 1 by 2 array\n",
    "    #           kde0 and kde1, kde objects that will be used to compute the likelihood\n",
    "    # output:   y_pred, a (# data) by 1 array\n",
    "    posterior = compute_posterior(x, prior, kde0, kde1)\n",
    "    y_pred = np.argmax(posterior, axis=1)\n",
    "    return y_pred\n",
    "\n",
    "def print_success_rates(y_true,y_pred):\n",
    "    n_success = np.sum(y_true == y_pred)\n",
    "    n = len(y_true)\n",
    "    print(\"Number of correctly labeled points: %d out of %d. Accuracy: %.2f\" \n",
    "        % (n_success, n, n_success/n))"
   ]
  },
  {
   "cell_type": "markdown",
   "id": "4e39a565",
   "metadata": {},
   "source": [
    "### 1.5 Predict\n",
    "1. Use your custom naive Bayes to:\n",
    "    - [1 pt] predict *TRAINING* data with ```naive_bayes_predict```.\n",
    "    - [1 pt] print the results with ```print_success_rates```."
   ]
  },
  {
   "cell_type": "code",
   "execution_count": 7,
   "id": "12b05d59",
   "metadata": {
    "tags": []
   },
   "outputs": [
    {
     "name": "stdout",
     "output_type": "stream",
     "text": [
      "Number of correctly labeled points: 215 out of 239. Accuracy: 0.90\n"
     ]
    }
   ],
   "source": [
    "# TODO predict training data and print\n",
    "y_train_pred = naive_bayes_predict(X_train, prior, kde0, kde1)\n",
    "print_success_rates(y_train, y_train_pred)"
   ]
  },
  {
   "cell_type": "markdown",
   "id": "5489ddcd",
   "metadata": {},
   "source": [
    "2. Use your custom naive Bayes to:\n",
    "    - [1 pt] predict *TEST* data with ```naive_bayes_predict```.\n",
    "    - [1 pt] print the results with ```print_success_rates```."
   ]
  },
  {
   "cell_type": "code",
   "execution_count": 8,
   "id": "16e984d8",
   "metadata": {},
   "outputs": [
    {
     "name": "stdout",
     "output_type": "stream",
     "text": [
      "Number of correctly labeled points: 37 out of 60. Accuracy: 0.62\n"
     ]
    }
   ],
   "source": [
    "# TODO predict test data and print\n",
    "y_test_pred = naive_bayes_predict(X_test, prior, kde0, kde1)\n",
    "print_success_rates(y_test, y_test_pred)"
   ]
  },
  {
   "cell_type": "markdown",
   "id": "703d41af",
   "metadata": {},
   "source": [
    "## 2. sklearn Gaussian naive Bayes\n",
    "Let's compare our custom naive Bayes with KDE to the sklearn Gaussian naive Bayes.\n",
    "\n",
    "### 2.1 Train\n",
    "1. [1 pt] Fit ```gnb``` using training data."
   ]
  },
  {
   "cell_type": "code",
   "execution_count": 9,
   "id": "4a53e36b",
   "metadata": {},
   "outputs": [],
   "source": [
    "# run sklearn's version - read up on differences if interested\n",
    "from sklearn.naive_bayes import GaussianNB\n",
    "\n",
    "gnb = GaussianNB()\n",
    "model = gnb.fit(X_train, y_train)"
   ]
  },
  {
   "cell_type": "markdown",
   "id": "690c1058",
   "metadata": {},
   "source": [
    "### 2.2 Predict\n",
    "1. Use sklearn naive Bayes to:\n",
    "    - [1 pt] predict *TRAINING* data.\n",
    "    - [1 pt] print the results with ```print_success_rates```."
   ]
  },
  {
   "cell_type": "code",
   "execution_count": 10,
   "id": "618cb163",
   "metadata": {},
   "outputs": [
    {
     "name": "stdout",
     "output_type": "stream",
     "text": [
      "Number of correctly labeled points: 191 out of 239. Accuracy: 0.80\n"
     ]
    }
   ],
   "source": [
    "# TODO predict training data and print\n",
    "y_train_pred = model.predict(X_train)\n",
    "print_success_rates(y_train, y_train_pred)"
   ]
  },
  {
   "cell_type": "markdown",
   "id": "48c77a88",
   "metadata": {},
   "source": [
    "2. Use sklearn naive Bayes to:\n",
    "    - [1 pt] predict *TEST* data.\n",
    "    - [1 pt] print the results with ```print_success_rates```."
   ]
  },
  {
   "cell_type": "code",
   "execution_count": 11,
   "id": "18d00bb8",
   "metadata": {},
   "outputs": [
    {
     "name": "stdout",
     "output_type": "stream",
     "text": [
      "Number of correctly labeled points: 40 out of 60. Accuracy: 0.67\n"
     ]
    }
   ],
   "source": [
    "# TODO predict test data and print\n",
    "y_test_pred = model.predict(X_test)\n",
    "print_success_rates(y_test, y_test_pred)"
   ]
  },
  {
   "cell_type": "markdown",
   "id": "a457e2dd",
   "metadata": {},
   "source": [
    "## 3. Discussion of results\n",
    "1. [2 pt] How does the accuracy of predicting *TRAINING* data differ between your custom naive Bayes with KDE and sklearn's Gaussian naive Bayes? Give an explanation for why it might be so.\n",
    "    \n",
    "    **Ans:** Custom naive Bayes with KDE yields a better accuracy than using sklearn's Gaussian naive Bayes. This could be due to that the data distribution of training set is not necessarily Gaussian. KDE, as a more coarse model, effectively avoided some Gaussian inaccuracies and ended up fitting the training data better. This self-trained model is able to more accurately reflect the distribution of training data.\n",
    "\n",
    "2. [2 pt] How does the accuracy of predicting *TEST* data differ between your custom naive Bayes with KDE and sklearn's Gaussian naive Bayes? Give an explanation for why it might be so.\n",
    "\n",
    "    **Ans:** The custom naive Bayes with KDE showed a lower accuracy on the test data compared to sklearn's Gaussian naive Bayes. This could be caused by overfitting in the training set. The model learns bias and noise from the training set so well that it cannot handle test data with the same level of precision. On the contrary, sklearn's model was not affected by the training data overfitting. Besides, the pdfs were solely obtained from the KDE model; since it could potentially be flawed, it wouldn't be surprising to yield lower accuray. "
   ]
  }
 ],
 "metadata": {
  "kernelspec": {
   "display_name": "Python 3 (ipykernel)",
   "language": "python",
   "name": "python3"
  },
  "language_info": {
   "codemirror_mode": {
    "name": "ipython",
    "version": 3
   },
   "file_extension": ".py",
   "mimetype": "text/x-python",
   "name": "python",
   "nbconvert_exporter": "python",
   "pygments_lexer": "ipython3",
   "version": "3.11.4"
  }
 },
 "nbformat": 4,
 "nbformat_minor": 5
}
